{
 "cells": [
  {
   "cell_type": "code",
   "execution_count": null,
   "metadata": {},
   "outputs": [],
   "source": [
    "from ir_datasets import load\n",
    "from ir_datasets_longeval.longeval_sci import register\n",
    "\n",
    "# Dataset registrieren\n",
    "register()\n",
    "\n",
    "# Dataset laden\n",
    "dataset = load(\"longeval-sci/2024-11/train\")"
   ]
  },
  {
   "cell_type": "code",
   "execution_count": null,
   "metadata": {},
   "outputs": [],
   "source": [
    "import pyterrier as pt\n",
    "if not pt.started():\n",
    "    pt.init()"
   ]
  },
  {
   "cell_type": "code",
   "execution_count": null,
   "metadata": {},
   "outputs": [],
   "source": [
    "import pandas as pd\n",
    "\n",
    "docs = []\n",
    "for doc in dataset.docs_iter():\n",
    "    docs.append({\n",
    "        \"docno\": doc.doc_id,  \n",
    "        \"text\": doc.abstract,  \n",
    "        \"title\": doc.title, \n",
    "    })\n",
    "\n",
    "df = pd.DataFrame(docs)"
   ]
  },
  {
   "cell_type": "code",
   "execution_count": null,
   "metadata": {},
   "outputs": [],
   "source": [
    "index_location_nyt = \"./example_data/index_CORE\"\n",
    "\n",
    "# Definiere die meta-Informationen im Konstruktor\n",
    "indexer_nyt = pt.IterDictIndexer(index_location_nyt, \n",
    "                                  meta={\"docno\": 10, \"title\": 1000, \"text\": 100000}, \n",
    "                                  overwrite=True)\n",
    "filtered_df_dict = df.to_dict(orient='records')\n",
    "# Indexiere die Daten mit den definierten Feldern im Indexer\n",
    "index_ref = indexer_nyt.index(filtered_df_dict)"
   ]
  }
 ],
 "metadata": {
  "language_info": {
   "name": "python"
  }
 },
 "nbformat": 4,
 "nbformat_minor": 2
}
